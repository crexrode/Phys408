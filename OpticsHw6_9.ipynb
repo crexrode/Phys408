{
 "metadata": {
  "name": ""
 },
 "nbformat": 3,
 "nbformat_minor": 0,
 "worksheets": [
  {
   "cells": [
    {
     "cell_type": "markdown",
     "metadata": {},
     "source": [
      "Homework 6. Question 9.\n",
      "----\n",
      "Early on, scientists struggled with equations that would represent the index of refraction. An 1871 version is \n",
      "\n",
      "$n^2=1+\\sum\\limits_{j}\\frac{A_j\\lambda^2}{\\lambda-\\lambda_{0j}^2}$ \n",
      "\n",
      "where the $A_j$ terms are constants and each $\\lambda_{0j}$ is the vacuum wavelength associated with a natural frequency $\\nu_{0j}$, such that $\\lambda_{0j}\\nu_{0j}=c$. Show when $\\lambda>>\\lambda_{0j}$, Cauchy's Equation (see Eq. 3-17 in Pedrotti) is an approximation of this one. Hint: Write the above expression with only the first term in the sum; expand it by the binomial theorem; take the square root of $n^2$ and expand again."
     ]
    },
    {
     "cell_type": "markdown",
     "metadata": {},
     "source": [
      "Solution\n",
      "---"
     ]
    },
    {
     "cell_type": "markdown",
     "metadata": {},
     "source": [
      "Using only the first term in the sum, we have\n",
      "\n",
      "$n^2\\approx1+\\frac{A_0\\lambda^2}{\\lambda^2-\\lambda_{00}^2}$\n",
      "\n",
      "which can be rewritten as\n",
      "\n",
      "$n^2\\approx1+A_0\\frac{1}{1-(\\frac{\\lambda_{00}}{\\lambda})^2}$"
     ]
    },
    {
     "cell_type": "markdown",
     "metadata": {},
     "source": [
      "Because $\\lambda$ is much greater than $\\lambda_{00}$, we can expand the right side to\n",
      "\n",
      "$n^2\\approx1+A_0+A_0(\\frac{\\lambda_{00}}{\\lambda})^2+A_0(\\frac{\\lambda_{00}}{\\lambda})^4+ ...$\n",
      "\n",
      "The polynomials that are 4th or higher order are so small that we let them equal zero.\n",
      "Additionally, solving for $n$ yields\n",
      "\n",
      "$n\\approx\\sqrt{1+A_0+A_0(\\frac{\\lambda_{00}}{\\lambda})^2}$"
     ]
    },
    {
     "cell_type": "markdown",
     "metadata": {},
     "source": [
      "Once again, $\\lambda$ is much greater than $\\lambda_{00}$ so we can expand the right side.\n",
      "\n",
      "$n\\approx\\sqrt{1+A_0}+\\frac{\\lambda_{00}^2A_0}{2\\sqrt{1+A_0}}\\frac{1}{\\lambda^2}+\\frac{-\\lambda_{00}^4A_0^2}{8(A_0+1)^{3/2}}\\frac{1}{\\lambda^4}+...$"
     ]
    },
    {
     "cell_type": "markdown",
     "metadata": {},
     "source": [
      "The first term is a constant that we will call A. Letting the coefficients of the other terms be B, C, etc. we get\n",
      "\n",
      "$n\\approx A+\\frac{B}{\\lambda^2}+\\frac{C}{\\lambda^4}+...$\n",
      "\n",
      "which is just the Cauchy Formula."
     ]
    },
    {
     "cell_type": "markdown",
     "metadata": {},
     "source": [
      "To prove that this is the form of our original equation after more terms of the sum are added, we can run through the same steps with one more term.\n",
      "\n",
      "$n^2\\approx1+\\frac{A_0\\lambda^2}{\\lambda^2-\\lambda_{00}^2}+\\frac{A_1\\lambda^2}{\\lambda^2-\\lambda_{01}^2}=1+A_0\\frac{1}{1-(\\frac{\\lambda_{00}}{\\lambda})^2}+A_1\\frac{1}{1-(\\frac{\\lambda_{01}}{\\lambda})^2}$"
     ]
    },
    {
     "cell_type": "markdown",
     "metadata": {},
     "source": [
      "Expanding gives\n",
      "\n",
      "$n^2\\approx1+A_0+A_0(\\frac{\\lambda_{00}}{\\lambda})^2+A_1+A_1(\\frac{\\lambda_{01}}{\\lambda})^2$\n",
      "\n",
      "after dropping the polynomial terms of order 4 or higher."
     ]
    },
    {
     "cell_type": "markdown",
     "metadata": {},
     "source": [
      "$n\\approx\\sqrt{1+A_0+A_0(\\frac{\\lambda_{00}}{\\lambda})^2+A_1+A_1(\\frac{\\lambda_{01}}{\\lambda})^2}=\\sqrt{1+A_0+A_1+(A_0\\lambda_{00}^2+A_1\\lambda_{01}^2)\\frac{1}{\\lambda^2}}$"
     ]
    },
    {
     "cell_type": "markdown",
     "metadata": {},
     "source": [
      "Expanding again gives\n",
      "\n",
      "$n\\approx\\sqrt{1+A_0+A_1}+\\frac{\\lambda_{00}^2A_0+\\lambda{01}^2A_1}{2\\sqrt{1+A_0+A_1}}\\frac{1}{\\lambda^2}+\\frac{-(\\lambda_{00}^2A_0+\\lambda_{01}^2A_1)^2}{8(1+A_0+A_1)^{3/2}}\\frac{1}{\\lambda^4}+...$"
     ]
    },
    {
     "cell_type": "markdown",
     "metadata": {},
     "source": [
      "Same as above. We let the first constant term be A, let the next coefficient be B, and the next coefficient be C to get\n",
      "\n",
      "$n\\approx A+\\frac{B}{\\lambda^2}+\\frac{C}{\\lambda^4}+...$"
     ]
    },
    {
     "cell_type": "code",
     "collapsed": false,
     "input": [],
     "language": "python",
     "metadata": {},
     "outputs": []
    }
   ],
   "metadata": {}
  }
 ]
}